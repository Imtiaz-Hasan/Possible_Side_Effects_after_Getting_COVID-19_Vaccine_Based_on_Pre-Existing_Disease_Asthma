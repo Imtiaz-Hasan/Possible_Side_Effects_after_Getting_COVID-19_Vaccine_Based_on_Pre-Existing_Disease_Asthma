{
  "nbformat": 4,
  "nbformat_minor": 0,
  "metadata": {
    "colab": {
      "name": "vaccine history count.ipynb",
      "provenance": [],
      "collapsed_sections": [],
      "authorship_tag": "ABX9TyOI1gKsQjRPNpav2Rvp83er",
      "include_colab_link": true
    },
    "kernelspec": {
      "name": "python3",
      "display_name": "Python 3"
    },
    "language_info": {
      "name": "python"
    }
  },
  "cells": [
    {
      "cell_type": "markdown",
      "metadata": {
        "id": "view-in-github",
        "colab_type": "text"
      },
      "source": [
        "<a href=\"https://colab.research.google.com/github/Imtiaz-Hasan/All-Project/blob/master/vaccine%20history%20count.ipynb\" target=\"_parent\"><img src=\"https://colab.research.google.com/assets/colab-badge.svg\" alt=\"Open In Colab\"/></a>"
      ]
    },
    {
      "cell_type": "code",
      "metadata": {
        "colab": {
          "base_uri": "https://localhost:8080/"
        },
        "id": "GuGixeM_Kikm",
        "outputId": "b5bb9142-e342-4bf4-8c7a-abf3f047a606"
      },
      "source": [
        "import pandas as pd\n",
        "from google.colab import drive\n",
        "drive.mount(\"/content/drive\")"
      ],
      "execution_count": null,
      "outputs": [
        {
          "output_type": "stream",
          "name": "stdout",
          "text": [
            "Drive already mounted at /content/drive; to attempt to forcibly remount, call drive.mount(\"/content/drive\", force_remount=True).\n"
          ]
        }
      ]
    },
    {
      "cell_type": "code",
      "metadata": {
        "colab": {
          "base_uri": "https://localhost:8080/",
          "height": 521
        },
        "id": "q-3YvFZcMXLY",
        "outputId": "a849db18-3682-469e-d63e-4111561a5c16"
      },
      "source": [
        "df = pd.read_excel(\"/content/drive/MyDrive/Vaccine-history-dataset/new-dataset.xlsx\")\n",
        "df.head()"
      ],
      "execution_count": null,
      "outputs": [
        {
          "output_type": "execute_result",
          "data": {
            "text/html": [
              "<div>\n",
              "<style scoped>\n",
              "    .dataframe tbody tr th:only-of-type {\n",
              "        vertical-align: middle;\n",
              "    }\n",
              "\n",
              "    .dataframe tbody tr th {\n",
              "        vertical-align: top;\n",
              "    }\n",
              "\n",
              "    .dataframe thead th {\n",
              "        text-align: right;\n",
              "    }\n",
              "</style>\n",
              "<table border=\"1\" class=\"dataframe\">\n",
              "  <thead>\n",
              "    <tr style=\"text-align: right;\">\n",
              "      <th></th>\n",
              "      <th>SYMPTOM1</th>\n",
              "      <th>SYMPTOM2</th>\n",
              "      <th>SYMPTOM3</th>\n",
              "      <th>SYMPTOM4</th>\n",
              "      <th>SYMPTOM5</th>\n",
              "      <th>BinarySym1</th>\n",
              "      <th>BinarySym2</th>\n",
              "      <th>BinarySym3</th>\n",
              "      <th>BinarySym4</th>\n",
              "      <th>BinarySym5</th>\n",
              "      <th>Total</th>\n",
              "      <th>VAX_MANU</th>\n",
              "      <th>AGE_YRS</th>\n",
              "      <th>SEX</th>\n",
              "      <th>SYMPTOM_TEXT</th>\n",
              "      <th>RECOVD</th>\n",
              "      <th>HISTORY</th>\n",
              "    </tr>\n",
              "  </thead>\n",
              "  <tbody>\n",
              "    <tr>\n",
              "      <th>0</th>\n",
              "      <td>Dysphagia</td>\n",
              "      <td>Epiglottitis</td>\n",
              "      <td>NaN</td>\n",
              "      <td>NaN</td>\n",
              "      <td>NaN</td>\n",
              "      <td>1</td>\n",
              "      <td>1</td>\n",
              "      <td>0</td>\n",
              "      <td>0</td>\n",
              "      <td>0</td>\n",
              "      <td>2</td>\n",
              "      <td>MODERNA</td>\n",
              "      <td>33.0</td>\n",
              "      <td>F</td>\n",
              "      <td>Right side of epiglottis swelled up and hinder...</td>\n",
              "      <td>Y</td>\n",
              "      <td>None</td>\n",
              "    </tr>\n",
              "    <tr>\n",
              "      <th>1</th>\n",
              "      <td>Anxiety</td>\n",
              "      <td>Dyspnoea</td>\n",
              "      <td>NaN</td>\n",
              "      <td>NaN</td>\n",
              "      <td>NaN</td>\n",
              "      <td>1</td>\n",
              "      <td>1</td>\n",
              "      <td>0</td>\n",
              "      <td>0</td>\n",
              "      <td>0</td>\n",
              "      <td>2</td>\n",
              "      <td>MODERNA</td>\n",
              "      <td>73.0</td>\n",
              "      <td>F</td>\n",
              "      <td>Approximately 30 min post vaccination administ...</td>\n",
              "      <td>Y</td>\n",
              "      <td>Patient residing at nursing facility. See pati...</td>\n",
              "    </tr>\n",
              "    <tr>\n",
              "      <th>2</th>\n",
              "      <td>Chest discomfort</td>\n",
              "      <td>Dysphagia</td>\n",
              "      <td>Pain in extremity</td>\n",
              "      <td>Visual impairment</td>\n",
              "      <td>NaN</td>\n",
              "      <td>1</td>\n",
              "      <td>1</td>\n",
              "      <td>1</td>\n",
              "      <td>1</td>\n",
              "      <td>0</td>\n",
              "      <td>4</td>\n",
              "      <td>PFIZER\\BIONTECH</td>\n",
              "      <td>23.0</td>\n",
              "      <td>F</td>\n",
              "      <td>About 15 minutes after receiving the vaccine, ...</td>\n",
              "      <td>U</td>\n",
              "      <td>None</td>\n",
              "    </tr>\n",
              "    <tr>\n",
              "      <th>3</th>\n",
              "      <td>Dizziness</td>\n",
              "      <td>Fatigue</td>\n",
              "      <td>Mobility decreased</td>\n",
              "      <td>NaN</td>\n",
              "      <td>NaN</td>\n",
              "      <td>1</td>\n",
              "      <td>1</td>\n",
              "      <td>1</td>\n",
              "      <td>0</td>\n",
              "      <td>0</td>\n",
              "      <td>3</td>\n",
              "      <td>MODERNA</td>\n",
              "      <td>58.0</td>\n",
              "      <td>F</td>\n",
              "      <td>extreme fatigue, dizziness,. could not lift my...</td>\n",
              "      <td>Y</td>\n",
              "      <td>diverticulitis, mitral valve prolapse, osteoar...</td>\n",
              "    </tr>\n",
              "    <tr>\n",
              "      <th>4</th>\n",
              "      <td>Injection site erythema</td>\n",
              "      <td>Injection site pruritus</td>\n",
              "      <td>Injection site swelling</td>\n",
              "      <td>Injection site warmth</td>\n",
              "      <td>NaN</td>\n",
              "      <td>1</td>\n",
              "      <td>1</td>\n",
              "      <td>1</td>\n",
              "      <td>1</td>\n",
              "      <td>0</td>\n",
              "      <td>4</td>\n",
              "      <td>MODERNA</td>\n",
              "      <td>47.0</td>\n",
              "      <td>F</td>\n",
              "      <td>Injection site swelling, redness, warm to the ...</td>\n",
              "      <td>N</td>\n",
              "      <td>NaN</td>\n",
              "    </tr>\n",
              "  </tbody>\n",
              "</table>\n",
              "</div>"
            ],
            "text/plain": [
              "                  SYMPTOM1  ...                                            HISTORY\n",
              "0                Dysphagia  ...                                               None\n",
              "1                  Anxiety  ...  Patient residing at nursing facility. See pati...\n",
              "2         Chest discomfort  ...                                               None\n",
              "3                Dizziness  ...  diverticulitis, mitral valve prolapse, osteoar...\n",
              "4  Injection site erythema  ...                                                NaN\n",
              "\n",
              "[5 rows x 17 columns]"
            ]
          },
          "metadata": {},
          "execution_count": 2
        }
      ]
    },
    {
      "cell_type": "code",
      "metadata": {
        "colab": {
          "base_uri": "https://localhost:8080/"
        },
        "id": "InAhGggt03YN",
        "outputId": "ef57eeaa-cd53-4b3f-a648-4c6bf3ef2c15"
      },
      "source": [
        "df.info()"
      ],
      "execution_count": null,
      "outputs": [
        {
          "output_type": "stream",
          "name": "stdout",
          "text": [
            "<class 'pandas.core.frame.DataFrame'>\n",
            "RangeIndex: 1048575 entries, 0 to 1048574\n",
            "Data columns (total 17 columns):\n",
            " #   Column        Non-Null Count    Dtype  \n",
            "---  ------        --------------    -----  \n",
            " 0   SYMPTOM1      890836 non-null   object \n",
            " 1   SYMPTOM2      700014 non-null   object \n",
            " 2   SYMPTOM3      542889 non-null   object \n",
            " 3   SYMPTOM4      414887 non-null   object \n",
            " 4   SYMPTOM5      311516 non-null   object \n",
            " 5   BinarySym1    1048575 non-null  int64  \n",
            " 6   BinarySym2    1048575 non-null  int64  \n",
            " 7   BinarySym3    1048575 non-null  int64  \n",
            " 8   BinarySym4    1048575 non-null  int64  \n",
            " 9   BinarySym5    1048575 non-null  int64  \n",
            " 10  Total         1048575 non-null  int64  \n",
            " 11  VAX_MANU      890836 non-null   object \n",
            " 12  AGE_YRS       819268 non-null   float64\n",
            " 13  SEX           890836 non-null   object \n",
            " 14  SYMPTOM_TEXT  890447 non-null   object \n",
            " 15  RECOVD        817819 non-null   object \n",
            " 16  HISTORY       594550 non-null   object \n",
            "dtypes: float64(1), int64(6), object(10)\n",
            "memory usage: 136.0+ MB\n"
          ]
        }
      ]
    },
    {
      "cell_type": "code",
      "metadata": {
        "colab": {
          "base_uri": "https://localhost:8080/"
        },
        "id": "nFufjhmQB0KF",
        "outputId": "390ad807-aa3f-4616-ab6c-a91edcd0fcf3"
      },
      "source": [
        "df.HISTORY.value_counts()"
      ],
      "execution_count": null,
      "outputs": [
        {
          "output_type": "execute_result",
          "data": {
            "text/plain": [
              "None                                                                                                                                                                                                                                                                                                                                                                                                                                                                                                                                                                                                                                                       79818\n",
              "none                                                                                                                                                                                                                                                                                                                                                                                                                                                                                                                                                                                                                                                       36272\n",
              "Comments: Unknown                                                                                                                                                                                                                                                                                                                                                                                                                                                                                                                                                                                                                                           8773\n",
              "No                                                                                                                                                                                                                                                                                                                                                                                                                                                                                                                                                                                                                                                          8725\n",
              "Asthma                                                                                                                                                                                                                                                                                                                                                                                                                                                                                                                                                                                                                                                      8239\n",
              "                                                                                                                                                                                                                                                                                                                                                                                                                                                                                                                                                                                                                                                           ...  \n",
              "back problems     high blood pressure    hearth desease                                                                                                                                                                                                                                                                                                                                                                                                                                                                                                                                                                                                        1\n",
              "Thyroid and pre diabetes controlled blood pressure and diabetes                                                                                                                                                                                                                                                                                                                                                                                                                                                                                                                                                                                                1\n",
              "Nervous Chronic low back pain   Respiratory Atopic rhinitis Asthma Nasal polyp   Digestive Esophagitis Vitamin D deficiency Class 2 obesity due to excess calories without serious comorbidity with body mass index (BMI) of 39.0 to 39.9 in adult   Genitourinary Simple renal cyst Abnormal uterine bleeding (AUB) Irregular periods/menstrual cycles Endometrial polyp PCOS (polycystic ovarian syndrome)   Musculoskeletal Peripheral edema   Endocrine/Metabolic Mixed hyperlipidemia Prediabetes   Immune Positive PPD   Other Hypersomnia, idiopathic Abnormal weight gain Reactive depression Family history of adult polycystic kidney disease        1\n",
              "Afib IC  Endometriosis                                                                                                                                                                                                                                                                                                                                                                                                                                                                                                                                                                                                                                         1\n",
              "Cardiomyopathy, Low Iron, Low B12                                                                                                                                                                                                                                                                                                                                                                                                                                                                                                                                                                                                                              1\n",
              "Name: HISTORY, Length: 163485, dtype: int64"
            ]
          },
          "metadata": {},
          "execution_count": 17
        }
      ]
    },
    {
      "cell_type": "code",
      "metadata": {
        "colab": {
          "base_uri": "https://localhost:8080/"
        },
        "id": "sS_Bqb91aGaP",
        "outputId": "a77f9809-5e94-4dac-fb41-ce519175f7bb"
      },
      "source": [
        "df['HISTORY'].unique()"
      ],
      "execution_count": null,
      "outputs": [
        {
          "output_type": "execute_result",
          "data": {
            "text/plain": [
              "array(['None',\n",
              "       'Patient residing at nursing facility. See patients chart.',\n",
              "       'diverticulitis, mitral valve prolapse, osteoarthritis', ...,\n",
              "       'Hypothyroidism, bi-lateral radiculopathy, back pain, pcos',\n",
              "       'Tetrology of Fallot Repair',\n",
              "       'High BP Migraines   Depression   Anxiety   Acid Reflux   PCOS'],\n",
              "      dtype=object)"
            ]
          },
          "metadata": {},
          "execution_count": 22
        }
      ]
    },
    {
      "cell_type": "markdown",
      "metadata": {
        "id": "NrT7aCHqb7XH"
      },
      "source": [
        "**Extra count code**"
      ]
    },
    {
      "cell_type": "code",
      "metadata": {
        "colab": {
          "base_uri": "https://localhost:8080/"
        },
        "id": "y2i5CUpibIXn",
        "outputId": "cc1cd902-93ab-4c87-dcb0-66ebb1ac575d"
      },
      "source": [
        "pd.value_counts(df[\"HISTORY\"])"
      ],
      "execution_count": null,
      "outputs": [
        {
          "output_type": "execute_result",
          "data": {
            "text/plain": [
              "None                                                                                                                                                                                                                                                                                                                                                                                                                                                                                                                                                                                                                                                       79818\n",
              "none                                                                                                                                                                                                                                                                                                                                                                                                                                                                                                                                                                                                                                                       36272\n",
              "Comments: Unknown                                                                                                                                                                                                                                                                                                                                                                                                                                                                                                                                                                                                                                           8773\n",
              "No                                                                                                                                                                                                                                                                                                                                                                                                                                                                                                                                                                                                                                                          8725\n",
              "Asthma                                                                                                                                                                                                                                                                                                                                                                                                                                                                                                                                                                                                                                                      8239\n",
              "                                                                                                                                                                                                                                                                                                                                                                                                                                                                                                                                                                                                                                                           ...  \n",
              "back problems     high blood pressure    hearth desease                                                                                                                                                                                                                                                                                                                                                                                                                                                                                                                                                                                                        1\n",
              "Thyroid and pre diabetes controlled blood pressure and diabetes                                                                                                                                                                                                                                                                                                                                                                                                                                                                                                                                                                                                1\n",
              "Nervous Chronic low back pain   Respiratory Atopic rhinitis Asthma Nasal polyp   Digestive Esophagitis Vitamin D deficiency Class 2 obesity due to excess calories without serious comorbidity with body mass index (BMI) of 39.0 to 39.9 in adult   Genitourinary Simple renal cyst Abnormal uterine bleeding (AUB) Irregular periods/menstrual cycles Endometrial polyp PCOS (polycystic ovarian syndrome)   Musculoskeletal Peripheral edema   Endocrine/Metabolic Mixed hyperlipidemia Prediabetes   Immune Positive PPD   Other Hypersomnia, idiopathic Abnormal weight gain Reactive depression Family history of adult polycystic kidney disease        1\n",
              "Afib IC  Endometriosis                                                                                                                                                                                                                                                                                                                                                                                                                                                                                                                                                                                                                                         1\n",
              "Cardiomyopathy, Low Iron, Low B12                                                                                                                                                                                                                                                                                                                                                                                                                                                                                                                                                                                                                              1\n",
              "Name: HISTORY, Length: 163485, dtype: int64"
            ]
          },
          "metadata": {},
          "execution_count": 6
        }
      ]
    },
    {
      "cell_type": "code",
      "metadata": {
        "colab": {
          "base_uri": "https://localhost:8080/"
        },
        "id": "I8Ax8dINTjqJ",
        "outputId": "30580e6a-00ef-4d5d-81ac-f569f28a130c"
      },
      "source": [
        "df.HISTORY.unique()"
      ],
      "execution_count": null,
      "outputs": [
        {
          "output_type": "execute_result",
          "data": {
            "text/plain": [
              "array(['None',\n",
              "       'Patient residing at nursing facility. See patients chart.',\n",
              "       'diverticulitis, mitral valve prolapse, osteoarthritis', ...,\n",
              "       'Hypothyroidism, bi-lateral radiculopathy, back pain, pcos',\n",
              "       'Tetrology of Fallot Repair',\n",
              "       'High BP Migraines   Depression   Anxiety   Acid Reflux   PCOS'],\n",
              "      dtype=object)"
            ]
          },
          "metadata": {},
          "execution_count": 57
        }
      ]
    },
    {
      "cell_type": "code",
      "metadata": {
        "id": "uIecg63vTJdJ"
      },
      "source": [
        "df_data_list = ['None', 'none', 'Comments: Unknown', 'No', 'no', 'NONE', 'Medical History/Concurrent Conditions: No adverse event', 'Comments: List of non-encoded Patient Relevant History: Patient Other Relevant History 1: None', 'unknown', 'Unknown', 'Comments: No medical history was provided by the reporter.' ,'None.', 'Medical History/Concurrent Conditions: No adverse event (No reported medical history)']"
      ],
      "execution_count": null,
      "outputs": []
    },
    {
      "cell_type": "code",
      "metadata": {
        "id": "iSFytKs_T6Dw"
      },
      "source": [
        "df_sv = df[~df.HISTORY.isin(df_data_list)]"
      ],
      "execution_count": null,
      "outputs": []
    },
    {
      "cell_type": "code",
      "metadata": {
        "colab": {
          "base_uri": "https://localhost:8080/"
        },
        "id": "JZt8dAeZUVyw",
        "outputId": "84343e14-4d32-4453-aeed-4ffcc8d00de6"
      },
      "source": [
        "df_sv.HISTORY.unique()"
      ],
      "execution_count": null,
      "outputs": [
        {
          "output_type": "execute_result",
          "data": {
            "text/plain": [
              "array(['Patient residing at nursing facility. See patients chart.',\n",
              "       'diverticulitis, mitral valve prolapse, osteoarthritis', nan, ...,\n",
              "       'Hypothyroidism, bi-lateral radiculopathy, back pain, pcos',\n",
              "       'Tetrology of Fallot Repair',\n",
              "       'High BP Migraines   Depression   Anxiety   Acid Reflux   PCOS'],\n",
              "      dtype=object)"
            ]
          },
          "metadata": {},
          "execution_count": 60
        }
      ]
    },
    {
      "cell_type": "code",
      "metadata": {
        "colab": {
          "base_uri": "https://localhost:8080/"
        },
        "id": "BGvY3KjtV5p5",
        "outputId": "5543cbc8-f4ba-4f7b-b797-6eb5988de84a"
      },
      "source": [
        "df_sv.HISTORY.value_counts()"
      ],
      "execution_count": null,
      "outputs": [
        {
          "output_type": "execute_result",
          "data": {
            "text/plain": [
              "Asthma                                                                                                                                8239\n",
              "Hypertension                                                                                                                          3061\n",
              "Medical History/Concurrent Conditions: COVID-19                                                                                       2677\n",
              "High blood pressure                                                                                                                   2378\n",
              "Hypothyroidism                                                                                                                        2335\n",
              "                                                                                                                                      ... \n",
              "Asthma, narcolepsy, stomach ulcers, histamine intolerance                                                                                1\n",
              "Medical History/Concurrent Conditions: Psychosis                                                                                         1\n",
              "asthma, diabetes, thyroid condition                                                                                                      1\n",
              "Thyroid Cancer in 2019. Only half of my thyroid was removed during surgery so I am not taking any medication.                            1\n",
              "Medical History/Concurrent Conditions: Hearing disability (he has bad hearing so he needs people to speak loud and clear for him.)       1\n",
              "Name: HISTORY, Length: 163472, dtype: int64"
            ]
          },
          "metadata": {},
          "execution_count": 63
        }
      ]
    }
  ]
}